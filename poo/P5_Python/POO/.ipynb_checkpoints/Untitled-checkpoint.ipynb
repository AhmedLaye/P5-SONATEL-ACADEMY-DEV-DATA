{
 "cells": [
  {
   "cell_type": "code",
   "execution_count": 89,
   "id": "b3453acc",
   "metadata": {},
   "outputs": [],
   "source": [
    "import csv\n",
    "from datetime import datetime\n",
    "\n",
    "class Etudiant:\n",
    "    def __init__(self, numero, prenom, nom, date_naissance, classe, notes):\n",
    "        self.numero = numero\n",
    "        self.prenom = prenom\n",
    "        self.nom = nom\n",
    "        self.date_naissance = date_naissance\n",
    "        self.classe = classe\n",
    "        self.notes = notes\n",
    "\n",
    "    def est_valide(self):\n",
    "        # Vérifie que toutes les informations sont valides\n",
    "        if not self.numero.isalnum() or len(self.numero) != 7:\n",
    "            return False\n",
    "        if not self.prenom.isalpha() or len(self.prenom) < 3:\n",
    "            return False\n",
    "        if not self.nom.isalpha() or len(self.nom) < 2:\n",
    "            return False\n",
    "        try:\n",
    "            datetime.strptime(self.date_naissance, '%d/%m/%Y')\n",
    "        except ValueError:\n",
    "            return False\n",
    "        if not re.match('^[3-6][AB]$', self.classe):\n",
    "            return False\n",
    "        return True\n",
    "\n",
    "class GestionnaireEtudiants:\n",
    "    def __init__(self):\n",
    "        self.etudiants = []\n",
    "        self.invalides = []\n",
    "        \n",
    "\n",
    "    def lire_fichier(self):\n",
    "        # Ouvre le fichier CSV et lit les données ligne par ligne\n",
    "        with open(\"data.csv\", 'r') as csvfile:\n",
    "            reader = csv.reader(csvfile)\n",
    "            for row in reader:\n",
    "                # Extraction des différentes données\n",
    "                numero, prenom, nom, date_naissance, classe, notes_str = row\n",
    "                # Convertit la chaîne de notes en dictionnaire\n",
    "                notes = {}\n",
    "                for matiere_notes_str in notes_str.split('#'):\n",
    "                    matiere, notes_str = matiere_notes_str.split('[')\n",
    "                    notes_str = notes_str.strip(']')\n",
    "                    notes[matiere] = {\n",
    "                        'devoirs': [float(n) for n in notes_str.split('|')],\n",
    "                        'examen': None,\n",
    "                        'moyenne': None\n",
    "                    }\n",
    "                # Crée un objet Etudiant\n",
    "                etudiant = Etudiant(numero, prenom, nom, date_naissance, classe, notes)\n",
    "                if etudiant.est_valide():\n",
    "                    self.etudiants.append(etudiant)\n",
    "                else:\n",
    "                    self.invalides.append(row)\n",
    "\n",
    "    def calculer_moyennes(self):\n",
    "        for etudiant in self.etudiants:\n",
    "            for matiere, notes in etudiant.notes.items():\n",
    "                moyenne = sum(notes['devoirs']) / len(notes['devoirs'])\n",
    "                moyenne = (moyenne + 2 * notes['examen']) / 3\n",
    "                notes['moyenne'] = moyenne\n",
    "\n",
    "    def afficher_valides(self):\n",
    "        print('Etudiants valides:')\n",
    "        for etudiant in self.etudiants:\n",
    "            print(f'{etudiant.numero} - {etudiant.prenom} {etudiant.nom}')\n",
    "            print(f'Date de naissance: {etudiant.date_naissance}')\n",
    "            print(f'Classe: {etudiant.classe}')\n",
    "            for matiere, notes in etudiant.notes.items():\n",
    "                print(f'{matiere}:')\n",
    "                print(f'  Devoirs: {notes[\"devoirs\"]}')\n",
    "                print(f'  Examen: {notes[\"examen\"]}')\n",
    "                print(f'  Moyenne: {notes[\"moyenne\"]}')\n",
    "            \n",
    "\n",
    "    \n"
   ]
  },
  {
   "cell_type": "code",
   "execution_count": 90,
   "id": "1f5586cf",
   "metadata": {},
   "outputs": [],
   "source": [
    "a=GestionEtudiants()"
   ]
  },
  {
   "cell_type": "code",
   "execution_count": 91,
   "id": "bf13a2c7",
   "metadata": {},
   "outputs": [
    {
     "data": {
      "text/plain": [
       "<__main__.GestionEtudiants at 0x1aa94c6db80>"
      ]
     },
     "execution_count": 91,
     "metadata": {},
     "output_type": "execute_result"
    }
   ],
   "source": [
    "a"
   ]
  },
  {
   "cell_type": "code",
   "execution_count": 92,
   "id": "344ace50",
   "metadata": {},
   "outputs": [
    {
     "name": "stderr",
     "output_type": "stream",
     "text": [
      "IOPub data rate exceeded.\n",
      "The notebook server will temporarily stop sending output\n",
      "to the client in order to avoid crashing it.\n",
      "To change this limit, set the config variable\n",
      "`--NotebookApp.iopub_data_rate_limit`.\n",
      "\n",
      "Current values:\n",
      "NotebookApp.iopub_data_rate_limit=10.0 (bytes/sec)\n",
      "NotebookApp.rate_limit_window=3.0 (secs)\n",
      "\n"
     ]
    }
   ],
   "source": [
    "a.lire_fichier()"
   ]
  },
  {
   "cell_type": "code",
   "execution_count": null,
   "id": "5c859050",
   "metadata": {},
   "outputs": [],
   "source": []
  }
 ],
 "metadata": {
  "kernelspec": {
   "display_name": "Python 3 (ipykernel)",
   "language": "python",
   "name": "python3"
  },
  "language_info": {
   "codemirror_mode": {
    "name": "ipython",
    "version": 3
   },
   "file_extension": ".py",
   "mimetype": "text/x-python",
   "name": "python",
   "nbconvert_exporter": "python",
   "pygments_lexer": "ipython3",
   "version": "3.9.13"
  }
 },
 "nbformat": 4,
 "nbformat_minor": 5
}
